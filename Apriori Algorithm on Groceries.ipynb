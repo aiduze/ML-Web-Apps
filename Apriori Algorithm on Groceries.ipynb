{
 "cells": [
  {
   "cell_type": "markdown",
   "metadata": {
    "colab_type": "text",
    "id": "1fziHl7Ar94J"
   },
   "source": [
    "# Apriori Algorithm aka Association Rule Learning"
   ]
  },
  {
   "cell_type": "markdown",
   "metadata": {
    "colab_type": "text",
    "id": "eiNwni1xsEgT"
   },
   "source": [
    "## Importing the libraries"
   ]
  },
  {
   "cell_type": "code",
   "execution_count": 1,
   "metadata": {
    "colab": {},
    "colab_type": "code",
    "id": "UJfitBClsJlT"
   },
   "outputs": [],
   "source": [
    "import numpy as np\n",
    "import matplotlib.pyplot as plt\n",
    "import pandas as pd"
   ]
  },
  {
   "cell_type": "markdown",
   "metadata": {
    "colab_type": "text",
    "id": "vLt-7XUKsXBd"
   },
   "source": [
    "## Data Preprocessing"
   ]
  },
  {
   "cell_type": "code",
   "execution_count": 2,
   "metadata": {
    "colab": {},
    "colab_type": "code",
    "id": "J_A-UFOAsaDf"
   },
   "outputs": [],
   "source": [
    "#Loading the dataset\n",
    "dataset = pd.read_csv('groceries.csv', header = 0, index_col = 0, on_bad_lines = 'skip')\n",
    "\n",
    "#Get rid of problematic characters using regex:\n",
    "dataset.replace(r'[()\\/]','', regex=True, inplace=True)\n",
    "\n",
    "#Removing the index and resetting the columns:\n",
    "dataset.reset_index(drop=True, inplace=True)\n",
    "dataset.columns = range(len(dataset.columns))\n",
    "\n",
    "#Initialize an empty list to store the transactions:\n",
    "transactions = []\n",
    "\n",
    "#Iterate through each row and fill the 'transactions' list:\n",
    "for i in range(len(dataset)):\n",
    "  transactions.append([str(dataset.values[i,j]) for j in range(len(dataset.columns))])"
   ]
  },
  {
   "cell_type": "markdown",
   "metadata": {
    "colab_type": "text",
    "id": "1wYZdBd5sea_"
   },
   "source": [
    "## Training the Apriori model on the dataset"
   ]
  },
  {
   "cell_type": "code",
   "execution_count": 3,
   "metadata": {
    "colab": {},
    "colab_type": "code",
    "id": "YzIk4vXZsj5i"
   },
   "outputs": [],
   "source": [
    "from apyori import apriori\n",
    "rules = apriori(transactions = transactions, min_support = 0.001, min_confidence = 0.2, min_lift = 3, min_length = 2, max_length = 2)"
   ]
  },
  {
   "cell_type": "markdown",
   "metadata": {
    "colab_type": "text",
    "id": "b176YNwWspiO"
   },
   "source": [
    "## Visualising the results"
   ]
  },
  {
   "cell_type": "markdown",
   "metadata": {
    "colab_type": "text",
    "id": "iO6bF_dImT-E"
   },
   "source": [
    "### Displaying the first results coming directly from the output of the apriori function"
   ]
  },
  {
   "cell_type": "code",
   "execution_count": 4,
   "metadata": {
    "colab": {},
    "colab_type": "code",
    "id": "kvF-sLc6ifhd"
   },
   "outputs": [],
   "source": [
    "results = list(rules)"
   ]
  },
  {
   "cell_type": "code",
   "execution_count": 5,
   "metadata": {
    "colab": {
     "base_uri": "https://localhost:8080/",
     "height": 191
    },
    "colab_type": "code",
    "id": "eAD8Co4_l9IE",
    "outputId": "d8523472-b36f-4020-c6fc-01ee3a0d8a86"
   },
   "outputs": [
    {
     "data": {
      "text/plain": [
       "[RelationRecord(items=frozenset({'liquor', 'bottled beer'}), support=0.002457002457002457, ordered_statistics=[OrderedStatistic(items_base=frozenset({'liquor'}), items_add=frozenset({'bottled beer'}), confidence=0.3, lift=7.963043478260869)]),\n",
       " RelationRecord(items=frozenset({'other vegetables', 'citrus fruit'}), support=0.0014742014742014742, ordered_statistics=[OrderedStatistic(items_base=frozenset({'citrus fruit'}), items_add=frozenset({'other vegetables'}), confidence=0.23684210526315788, lift=5.806911857958148)]),\n",
       " RelationRecord(items=frozenset({'whole milk', 'curd'}), support=0.002620802620802621, ordered_statistics=[OrderedStatistic(items_base=frozenset({'curd'}), items_add=frozenset({'whole milk'}), confidence=0.253968253968254, lift=4.642144282862846)]),\n",
       " RelationRecord(items=frozenset({'redblush wine', 'liquor'}), support=0.002293202293202293, ordered_statistics=[OrderedStatistic(items_base=frozenset({'liquor'}), items_add=frozenset({'redblush wine'}), confidence=0.27999999999999997, lift=24.77391304347826), OrderedStatistic(items_base=frozenset({'redblush wine'}), items_add=frozenset({'liquor'}), confidence=0.20289855072463767, lift=24.77391304347826)]),\n",
       " RelationRecord(items=frozenset({'other vegetables', 'pip fruit'}), support=0.0019656019656019656, ordered_statistics=[OrderedStatistic(items_base=frozenset({'pip fruit'}), items_add=frozenset({'other vegetables'}), confidence=0.21052631578947367, lift=5.161699429296132)]),\n",
       " RelationRecord(items=frozenset({'rollsbuns', 'soft cheese'}), support=0.001638001638001638, ordered_statistics=[OrderedStatistic(items_base=frozenset({'soft cheese'}), items_add=frozenset({'rollsbuns'}), confidence=0.30303030303030304, lift=4.057017543859649)]),\n",
       " RelationRecord(items=frozenset({'whole milk', 'root vegetables'}), support=0.0029484029484029483, ordered_statistics=[OrderedStatistic(items_base=frozenset({'root vegetables'}), items_add=frozenset({'whole milk'}), confidence=0.21428571428571427, lift=3.9168092386655258)])]"
      ]
     },
     "execution_count": 5,
     "metadata": {},
     "output_type": "execute_result"
    }
   ],
   "source": [
    "results"
   ]
  },
  {
   "cell_type": "markdown",
   "metadata": {
    "colab_type": "text",
    "id": "MFkQP-fcjDBC"
   },
   "source": [
    "### Putting the results well organised into a Pandas DataFrame"
   ]
  },
  {
   "cell_type": "code",
   "execution_count": 6,
   "metadata": {
    "colab": {},
    "colab_type": "code",
    "id": "gyq7Poi0mMUe"
   },
   "outputs": [],
   "source": [
    "def inspect(results):\n",
    "    lhs         = [tuple(result[2][0][0])[0] for result in results]\n",
    "    rhs         = [tuple(result[2][0][1])[0] for result in results]\n",
    "    supports    = [result[1] for result in results]\n",
    "    confidences = [result[2][0][2] for result in results]\n",
    "    lifts       = [result[2][0][3] for result in results]\n",
    "    return list(zip(lhs, rhs, supports, confidences, lifts))\n",
    "resultsinDataFrame = pd.DataFrame(inspect(results), columns = ['Left Hand Side', 'Right Hand Side', 'Support', 'Confidence', 'Lift'])"
   ]
  },
  {
   "cell_type": "markdown",
   "metadata": {
    "colab_type": "text",
    "id": "Pfn-G1eAjjLz"
   },
   "source": [
    "### Displaying the results non sorted"
   ]
  },
  {
   "cell_type": "code",
   "execution_count": 7,
   "metadata": {
    "colab": {
     "base_uri": "https://localhost:8080/",
     "height": 326
    },
    "colab_type": "code",
    "id": "CmDCcs_6ip9V",
    "outputId": "2170915c-075e-455e-b65b-6ae8d1a62166"
   },
   "outputs": [
    {
     "data": {
      "text/html": [
       "<div>\n",
       "<style scoped>\n",
       "    .dataframe tbody tr th:only-of-type {\n",
       "        vertical-align: middle;\n",
       "    }\n",
       "\n",
       "    .dataframe tbody tr th {\n",
       "        vertical-align: top;\n",
       "    }\n",
       "\n",
       "    .dataframe thead th {\n",
       "        text-align: right;\n",
       "    }\n",
       "</style>\n",
       "<table border=\"1\" class=\"dataframe\">\n",
       "  <thead>\n",
       "    <tr style=\"text-align: right;\">\n",
       "      <th></th>\n",
       "      <th>Left Hand Side</th>\n",
       "      <th>Right Hand Side</th>\n",
       "      <th>Support</th>\n",
       "      <th>Confidence</th>\n",
       "      <th>Lift</th>\n",
       "    </tr>\n",
       "  </thead>\n",
       "  <tbody>\n",
       "    <tr>\n",
       "      <th>0</th>\n",
       "      <td>liquor</td>\n",
       "      <td>bottled beer</td>\n",
       "      <td>0.002457</td>\n",
       "      <td>0.300000</td>\n",
       "      <td>7.963043</td>\n",
       "    </tr>\n",
       "    <tr>\n",
       "      <th>1</th>\n",
       "      <td>citrus fruit</td>\n",
       "      <td>other vegetables</td>\n",
       "      <td>0.001474</td>\n",
       "      <td>0.236842</td>\n",
       "      <td>5.806912</td>\n",
       "    </tr>\n",
       "    <tr>\n",
       "      <th>2</th>\n",
       "      <td>curd</td>\n",
       "      <td>whole milk</td>\n",
       "      <td>0.002621</td>\n",
       "      <td>0.253968</td>\n",
       "      <td>4.642144</td>\n",
       "    </tr>\n",
       "    <tr>\n",
       "      <th>3</th>\n",
       "      <td>liquor</td>\n",
       "      <td>redblush wine</td>\n",
       "      <td>0.002293</td>\n",
       "      <td>0.280000</td>\n",
       "      <td>24.773913</td>\n",
       "    </tr>\n",
       "    <tr>\n",
       "      <th>4</th>\n",
       "      <td>pip fruit</td>\n",
       "      <td>other vegetables</td>\n",
       "      <td>0.001966</td>\n",
       "      <td>0.210526</td>\n",
       "      <td>5.161699</td>\n",
       "    </tr>\n",
       "    <tr>\n",
       "      <th>5</th>\n",
       "      <td>soft cheese</td>\n",
       "      <td>rollsbuns</td>\n",
       "      <td>0.001638</td>\n",
       "      <td>0.303030</td>\n",
       "      <td>4.057018</td>\n",
       "    </tr>\n",
       "    <tr>\n",
       "      <th>6</th>\n",
       "      <td>root vegetables</td>\n",
       "      <td>whole milk</td>\n",
       "      <td>0.002948</td>\n",
       "      <td>0.214286</td>\n",
       "      <td>3.916809</td>\n",
       "    </tr>\n",
       "  </tbody>\n",
       "</table>\n",
       "</div>"
      ],
      "text/plain": [
       "    Left Hand Side   Right Hand Side   Support  Confidence       Lift\n",
       "0           liquor      bottled beer  0.002457    0.300000   7.963043\n",
       "1     citrus fruit  other vegetables  0.001474    0.236842   5.806912\n",
       "2             curd        whole milk  0.002621    0.253968   4.642144\n",
       "3           liquor     redblush wine  0.002293    0.280000  24.773913\n",
       "4        pip fruit  other vegetables  0.001966    0.210526   5.161699\n",
       "5      soft cheese         rollsbuns  0.001638    0.303030   4.057018\n",
       "6  root vegetables        whole milk  0.002948    0.214286   3.916809"
      ]
     },
     "execution_count": 7,
     "metadata": {},
     "output_type": "execute_result"
    }
   ],
   "source": [
    "resultsinDataFrame"
   ]
  },
  {
   "cell_type": "markdown",
   "metadata": {
    "colab_type": "text",
    "id": "IjrrlYW4jpTR"
   },
   "source": [
    "### Displaying the results sorted by descending lifts"
   ]
  },
  {
   "cell_type": "code",
   "execution_count": 8,
   "metadata": {
    "colab": {
     "base_uri": "https://localhost:8080/",
     "height": 326
    },
    "colab_type": "code",
    "id": "nI7DJXng-nxQ",
    "outputId": "aac84e87-eb2a-4428-cf55-1c16d23ea3ed"
   },
   "outputs": [
    {
     "data": {
      "text/html": [
       "<div>\n",
       "<style scoped>\n",
       "    .dataframe tbody tr th:only-of-type {\n",
       "        vertical-align: middle;\n",
       "    }\n",
       "\n",
       "    .dataframe tbody tr th {\n",
       "        vertical-align: top;\n",
       "    }\n",
       "\n",
       "    .dataframe thead th {\n",
       "        text-align: right;\n",
       "    }\n",
       "</style>\n",
       "<table border=\"1\" class=\"dataframe\">\n",
       "  <thead>\n",
       "    <tr style=\"text-align: right;\">\n",
       "      <th></th>\n",
       "      <th>Left Hand Side</th>\n",
       "      <th>Right Hand Side</th>\n",
       "      <th>Support</th>\n",
       "      <th>Confidence</th>\n",
       "      <th>Lift</th>\n",
       "    </tr>\n",
       "  </thead>\n",
       "  <tbody>\n",
       "    <tr>\n",
       "      <th>3</th>\n",
       "      <td>liquor</td>\n",
       "      <td>redblush wine</td>\n",
       "      <td>0.002293</td>\n",
       "      <td>0.280000</td>\n",
       "      <td>24.773913</td>\n",
       "    </tr>\n",
       "    <tr>\n",
       "      <th>0</th>\n",
       "      <td>liquor</td>\n",
       "      <td>bottled beer</td>\n",
       "      <td>0.002457</td>\n",
       "      <td>0.300000</td>\n",
       "      <td>7.963043</td>\n",
       "    </tr>\n",
       "    <tr>\n",
       "      <th>1</th>\n",
       "      <td>citrus fruit</td>\n",
       "      <td>other vegetables</td>\n",
       "      <td>0.001474</td>\n",
       "      <td>0.236842</td>\n",
       "      <td>5.806912</td>\n",
       "    </tr>\n",
       "    <tr>\n",
       "      <th>4</th>\n",
       "      <td>pip fruit</td>\n",
       "      <td>other vegetables</td>\n",
       "      <td>0.001966</td>\n",
       "      <td>0.210526</td>\n",
       "      <td>5.161699</td>\n",
       "    </tr>\n",
       "    <tr>\n",
       "      <th>2</th>\n",
       "      <td>curd</td>\n",
       "      <td>whole milk</td>\n",
       "      <td>0.002621</td>\n",
       "      <td>0.253968</td>\n",
       "      <td>4.642144</td>\n",
       "    </tr>\n",
       "    <tr>\n",
       "      <th>5</th>\n",
       "      <td>soft cheese</td>\n",
       "      <td>rollsbuns</td>\n",
       "      <td>0.001638</td>\n",
       "      <td>0.303030</td>\n",
       "      <td>4.057018</td>\n",
       "    </tr>\n",
       "    <tr>\n",
       "      <th>6</th>\n",
       "      <td>root vegetables</td>\n",
       "      <td>whole milk</td>\n",
       "      <td>0.002948</td>\n",
       "      <td>0.214286</td>\n",
       "      <td>3.916809</td>\n",
       "    </tr>\n",
       "  </tbody>\n",
       "</table>\n",
       "</div>"
      ],
      "text/plain": [
       "    Left Hand Side   Right Hand Side   Support  Confidence       Lift\n",
       "3           liquor     redblush wine  0.002293    0.280000  24.773913\n",
       "0           liquor      bottled beer  0.002457    0.300000   7.963043\n",
       "1     citrus fruit  other vegetables  0.001474    0.236842   5.806912\n",
       "4        pip fruit  other vegetables  0.001966    0.210526   5.161699\n",
       "2             curd        whole milk  0.002621    0.253968   4.642144\n",
       "5      soft cheese         rollsbuns  0.001638    0.303030   4.057018\n",
       "6  root vegetables        whole milk  0.002948    0.214286   3.916809"
      ]
     },
     "execution_count": 8,
     "metadata": {},
     "output_type": "execute_result"
    }
   ],
   "source": [
    "resultsinDataFrame.nlargest(n = 10, columns = 'Lift')"
   ]
  },
  {
   "cell_type": "code",
   "execution_count": 9,
   "metadata": {},
   "outputs": [],
   "source": [
    "# Format the results for easier use\n",
    "formatted_results = []\n",
    "for result in results:\n",
    "    formatted_results.append({\n",
    "        'items': list(result.items),\n",
    "        'support': result.support,\n",
    "        'confidence': result.ordered_statistics[0].confidence,\n",
    "        'lift': result.ordered_statistics[0].lift\n",
    "    })\n",
    "\n",
    "# Save the results to a file (e.g., JSON)\n",
    "import json\n",
    "with open('apriori_results.json', 'w') as f:\n",
    "    json.dump(formatted_results, f)"
   ]
  },
  {
   "cell_type": "code",
   "execution_count": null,
   "metadata": {},
   "outputs": [],
   "source": []
  }
 ],
 "metadata": {
  "colab": {
   "collapsed_sections": [],
   "name": "apriori.ipynb",
   "provenance": [],
   "toc_visible": true
  },
  "kernelspec": {
   "display_name": "Python 3 (ipykernel)",
   "language": "python",
   "name": "python3"
  },
  "language_info": {
   "codemirror_mode": {
    "name": "ipython",
    "version": 3
   },
   "file_extension": ".py",
   "mimetype": "text/x-python",
   "name": "python",
   "nbconvert_exporter": "python",
   "pygments_lexer": "ipython3",
   "version": "3.11.3"
  }
 },
 "nbformat": 4,
 "nbformat_minor": 1
}
